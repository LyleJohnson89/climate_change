{
 "cells": [
  {
   "cell_type": "markdown",
   "metadata": {
    "papermill": {
     "duration": 0.013386,
     "end_time": "2020-10-19T16:11:56.202538",
     "exception": false,
     "start_time": "2020-10-19T16:11:56.189152",
     "status": "completed"
    },
    "tags": []
   },
   "source": [
    "## Import the necessary libraries"
   ]
  },
  {
   "cell_type": "code",
   "execution_count": 1,
   "metadata": {
    "_cell_guid": "79c7e3d0-c299-4dcb-8224-4455121ee9b0",
    "_uuid": "d629ff2d2480ee46fbb7e2d37f6b5fab8052498a",
    "execution": {
     "iopub.execute_input": "2020-10-19T16:11:56.238210Z",
     "iopub.status.busy": "2020-10-19T16:11:56.237513Z",
     "iopub.status.idle": "2020-10-19T16:11:58.369626Z",
     "shell.execute_reply": "2020-10-19T16:11:58.368867Z"
    },
    "papermill": {
     "duration": 2.154878,
     "end_time": "2020-10-19T16:11:58.369758",
     "exception": false,
     "start_time": "2020-10-19T16:11:56.214880",
     "status": "completed"
    },
    "tags": []
   },
   "outputs": [],
   "source": [
    "import pandas as pd\n",
    "import numpy as np\n",
    "import nltk\n",
    "import string\n",
    "import re\n",
    "from sklearn.feature_extraction.text import TfidfVectorizer\n",
    "from sklearn.feature_extraction.text import CountVectorizer\n",
    "from sklearn.linear_model import LogisticRegression\n",
    "from sklearn.naive_bayes import MultinomialNB\n",
    "from sklearn.ensemble import RandomForestClassifier, AdaBoostClassifier\n",
    "from sklearn.svm import LinearSVC\n",
    "from sklearn.model_selection import train_test_split\n",
    "from sklearn.naive_bayes import MultinomialNB\n",
    "from nltk.stem import WordNetLemmatizer\n",
    "from nltk.corpus import stopwords\n",
    "\n",
    "from sklearn.metrics import f1_score\n",
    "\n",
    "import seaborn as sns\n",
    "import matplotlib.pyplot as plt\n",
    "%matplotlib inline"
   ]
  },
  {
   "cell_type": "code",
   "execution_count": 2,
   "metadata": {
    "execution": {
     "iopub.execute_input": "2020-10-19T16:11:58.405116Z",
     "iopub.status.busy": "2020-10-19T16:11:58.404311Z",
     "iopub.status.idle": "2020-10-19T16:11:58.485493Z",
     "shell.execute_reply": "2020-10-19T16:11:58.484808Z"
    },
    "papermill": {
     "duration": 0.103344,
     "end_time": "2020-10-19T16:11:58.485617",
     "exception": false,
     "start_time": "2020-10-19T16:11:58.382273",
     "status": "completed"
    },
    "tags": []
   },
   "outputs": [],
   "source": [
    "train = pd.read_csv('../input/climate-change-edsa2020-21/train.csv')\n",
    "test = pd.read_csv('../input/climate-change-edsa2020-21/test.csv')"
   ]
  },
  {
   "cell_type": "code",
   "execution_count": 3,
   "metadata": {
    "execution": {
     "iopub.execute_input": "2020-10-19T16:11:58.521899Z",
     "iopub.status.busy": "2020-10-19T16:11:58.521196Z",
     "iopub.status.idle": "2020-10-19T16:11:58.530053Z",
     "shell.execute_reply": "2020-10-19T16:11:58.530537Z"
    },
    "papermill": {
     "duration": 0.031733,
     "end_time": "2020-10-19T16:11:58.530694",
     "exception": false,
     "start_time": "2020-10-19T16:11:58.498961",
     "status": "completed"
    },
    "tags": []
   },
   "outputs": [
    {
     "data": {
      "text/plain": [
       " 1    8530\n",
       " 2    3640\n",
       " 0    2353\n",
       "-1    1296\n",
       "Name: sentiment, dtype: int64"
      ]
     },
     "execution_count": 3,
     "metadata": {},
     "output_type": "execute_result"
    }
   ],
   "source": [
    "train.sentiment.value_counts()"
   ]
  },
  {
   "cell_type": "code",
   "execution_count": 4,
   "metadata": {
    "execution": {
     "iopub.execute_input": "2020-10-19T16:11:58.571931Z",
     "iopub.status.busy": "2020-10-19T16:11:58.566674Z",
     "iopub.status.idle": "2020-10-19T16:11:58.638799Z",
     "shell.execute_reply": "2020-10-19T16:11:58.638234Z"
    },
    "papermill": {
     "duration": 0.095707,
     "end_time": "2020-10-19T16:11:58.638924",
     "exception": false,
     "start_time": "2020-10-19T16:11:58.543217",
     "status": "completed"
    },
    "tags": []
   },
   "outputs": [],
   "source": [
    "pattern_url = r'http[s]?://(?:[A-Za-z]|[0-9]|[$-_@.&+]|[!*\\(\\),]|(?:%[0-9A-Fa-f][0-9A-Fa-f]))+'\n",
    "subs_url = r'url-web'\n",
    "train['message'] = train['message'].replace(to_replace = pattern_url, value = subs_url, regex = True)\n",
    "test['message'] = test['message'].replace(to_replace = pattern_url, value = subs_url, regex = True)"
   ]
  },
  {
   "cell_type": "code",
   "execution_count": 5,
   "metadata": {
    "execution": {
     "iopub.execute_input": "2020-10-19T16:11:58.703195Z",
     "iopub.status.busy": "2020-10-19T16:11:58.702454Z",
     "iopub.status.idle": "2020-10-19T16:11:58.705826Z",
     "shell.execute_reply": "2020-10-19T16:11:58.705194Z"
    },
    "papermill": {
     "duration": 0.054586,
     "end_time": "2020-10-19T16:11:58.705947",
     "exception": false,
     "start_time": "2020-10-19T16:11:58.651361",
     "status": "completed"
    },
    "tags": []
   },
   "outputs": [],
   "source": [
    "train['message'] = train['message'].str.lower()\n",
    "test['message'] = test['message'].str.lower()"
   ]
  },
  {
   "cell_type": "code",
   "execution_count": 6,
   "metadata": {
    "execution": {
     "iopub.execute_input": "2020-10-19T16:11:58.773863Z",
     "iopub.status.busy": "2020-10-19T16:11:58.758245Z",
     "iopub.status.idle": "2020-10-19T16:11:59.020119Z",
     "shell.execute_reply": "2020-10-19T16:11:59.019485Z"
    },
    "papermill": {
     "duration": 0.301708,
     "end_time": "2020-10-19T16:11:59.020316",
     "exception": false,
     "start_time": "2020-10-19T16:11:58.718608",
     "status": "completed"
    },
    "tags": []
   },
   "outputs": [],
   "source": [
    "import string\n",
    "def remove_punctuation_numbers(post):\n",
    "    punc_numbers = string.punctuation + '0123456789'\n",
    "    return ''.join([l for l in post if l not in punc_numbers])\n",
    "\n",
    "train['message'] = train['message'].apply(remove_punctuation_numbers)\n",
    "test['message'] = test['message'].apply(remove_punctuation_numbers)"
   ]
  },
  {
   "cell_type": "code",
   "execution_count": 7,
   "metadata": {
    "execution": {
     "iopub.execute_input": "2020-10-19T16:11:59.050602Z",
     "iopub.status.busy": "2020-10-19T16:11:59.049954Z",
     "iopub.status.idle": "2020-10-19T16:11:59.052649Z",
     "shell.execute_reply": "2020-10-19T16:11:59.053139Z"
    },
    "papermill": {
     "duration": 0.020274,
     "end_time": "2020-10-19T16:11:59.053331",
     "exception": false,
     "start_time": "2020-10-19T16:11:59.033057",
     "status": "completed"
    },
    "tags": []
   },
   "outputs": [],
   "source": [
    "y = train['sentiment']\n",
    "X = train['message']"
   ]
  },
  {
   "cell_type": "code",
   "execution_count": 8,
   "metadata": {
    "execution": {
     "iopub.execute_input": "2020-10-19T16:11:59.087942Z",
     "iopub.status.busy": "2020-10-19T16:11:59.087278Z",
     "iopub.status.idle": "2020-10-19T16:11:59.090555Z",
     "shell.execute_reply": "2020-10-19T16:11:59.091046Z"
    },
    "papermill": {
     "duration": 0.025125,
     "end_time": "2020-10-19T16:11:59.091189",
     "exception": false,
     "start_time": "2020-10-19T16:11:59.066064",
     "status": "completed"
    },
    "tags": []
   },
   "outputs": [],
   "source": [
    "X_train,X_val,y_train,y_val = train_test_split(X,y,test_size=.00001, random_state=20)"
   ]
  },
  {
   "cell_type": "code",
   "execution_count": 9,
   "metadata": {
    "execution": {
     "iopub.execute_input": "2020-10-19T16:11:59.123148Z",
     "iopub.status.busy": "2020-10-19T16:11:59.122487Z",
     "iopub.status.idle": "2020-10-19T16:11:59.127677Z",
     "shell.execute_reply": "2020-10-19T16:11:59.127075Z"
    },
    "papermill": {
     "duration": 0.023713,
     "end_time": "2020-10-19T16:11:59.127816",
     "exception": false,
     "start_time": "2020-10-19T16:11:59.104103",
     "status": "completed"
    },
    "tags": []
   },
   "outputs": [],
   "source": [
    "from sklearn.pipeline import Pipeline"
   ]
  },
  {
   "cell_type": "code",
   "execution_count": 10,
   "metadata": {
    "execution": {
     "iopub.execute_input": "2020-10-19T16:11:59.159917Z",
     "iopub.status.busy": "2020-10-19T16:11:59.159229Z",
     "iopub.status.idle": "2020-10-19T16:11:59.162525Z",
     "shell.execute_reply": "2020-10-19T16:11:59.162026Z"
    },
    "papermill": {
     "duration": 0.021909,
     "end_time": "2020-10-19T16:11:59.162655",
     "exception": false,
     "start_time": "2020-10-19T16:11:59.140746",
     "status": "completed"
    },
    "tags": []
   },
   "outputs": [],
   "source": [
    "text_clf = Pipeline([('tfidf',TfidfVectorizer(max_df=0.8,min_df=2,ngram_range=(1,2))),\n",
    "                     ('clf',LinearSVC(C=0.3,class_weight='balanced',max_iter=3000))])"
   ]
  },
  {
   "cell_type": "code",
   "execution_count": 11,
   "metadata": {
    "execution": {
     "iopub.execute_input": "2020-10-19T16:11:59.243957Z",
     "iopub.status.busy": "2020-10-19T16:11:59.213004Z",
     "iopub.status.idle": "2020-10-19T16:12:00.441788Z",
     "shell.execute_reply": "2020-10-19T16:12:00.442288Z"
    },
    "papermill": {
     "duration": 1.266917,
     "end_time": "2020-10-19T16:12:00.442442",
     "exception": false,
     "start_time": "2020-10-19T16:11:59.175525",
     "status": "completed"
    },
    "tags": []
   },
   "outputs": [
    {
     "data": {
      "text/plain": [
       "Pipeline(steps=[('tfidf',\n",
       "                 TfidfVectorizer(max_df=0.8, min_df=2, ngram_range=(1, 2))),\n",
       "                ('clf',\n",
       "                 LinearSVC(C=0.3, class_weight='balanced', max_iter=3000))])"
      ]
     },
     "execution_count": 11,
     "metadata": {},
     "output_type": "execute_result"
    }
   ],
   "source": [
    "text_clf.fit(X_train,y_train)"
   ]
  },
  {
   "cell_type": "code",
   "execution_count": 12,
   "metadata": {
    "execution": {
     "iopub.execute_input": "2020-10-19T16:12:00.474920Z",
     "iopub.status.busy": "2020-10-19T16:12:00.474044Z",
     "iopub.status.idle": "2020-10-19T16:12:00.478340Z",
     "shell.execute_reply": "2020-10-19T16:12:00.477860Z"
    },
    "papermill": {
     "duration": 0.022675,
     "end_time": "2020-10-19T16:12:00.478475",
     "exception": false,
     "start_time": "2020-10-19T16:12:00.455800",
     "status": "completed"
    },
    "tags": []
   },
   "outputs": [],
   "source": [
    "y_val_preds = text_clf.predict(X_val)"
   ]
  },
  {
   "cell_type": "code",
   "execution_count": 13,
   "metadata": {
    "execution": {
     "iopub.execute_input": "2020-10-19T16:12:00.512398Z",
     "iopub.status.busy": "2020-10-19T16:12:00.511150Z",
     "iopub.status.idle": "2020-10-19T16:12:00.516832Z",
     "shell.execute_reply": "2020-10-19T16:12:00.516322Z"
    },
    "papermill": {
     "duration": 0.024883,
     "end_time": "2020-10-19T16:12:00.516949",
     "exception": false,
     "start_time": "2020-10-19T16:12:00.492066",
     "status": "completed"
    },
    "tags": []
   },
   "outputs": [
    {
     "data": {
      "text/plain": [
       "1.0"
      ]
     },
     "execution_count": 13,
     "metadata": {},
     "output_type": "execute_result"
    }
   ],
   "source": [
    "f1_score(y_val, y_val_preds, average=\"macro\")"
   ]
  },
  {
   "cell_type": "code",
   "execution_count": 14,
   "metadata": {
    "execution": {
     "iopub.execute_input": "2020-10-19T16:12:00.549576Z",
     "iopub.status.busy": "2020-10-19T16:12:00.548903Z",
     "iopub.status.idle": "2020-10-19T16:12:00.552069Z",
     "shell.execute_reply": "2020-10-19T16:12:00.551518Z"
    },
    "papermill": {
     "duration": 0.021283,
     "end_time": "2020-10-19T16:12:00.552184",
     "exception": false,
     "start_time": "2020-10-19T16:12:00.530901",
     "status": "completed"
    },
    "tags": []
   },
   "outputs": [],
   "source": [
    "testx = test['message']"
   ]
  },
  {
   "cell_type": "code",
   "execution_count": 15,
   "metadata": {
    "execution": {
     "iopub.execute_input": "2020-10-19T16:12:00.593389Z",
     "iopub.status.busy": "2020-10-19T16:12:00.588215Z",
     "iopub.status.idle": "2020-10-19T16:12:00.965875Z",
     "shell.execute_reply": "2020-10-19T16:12:00.966344Z"
    },
    "papermill": {
     "duration": 0.400402,
     "end_time": "2020-10-19T16:12:00.966522",
     "exception": false,
     "start_time": "2020-10-19T16:12:00.566120",
     "status": "completed"
    },
    "tags": []
   },
   "outputs": [],
   "source": [
    "test_preds = text_clf.predict(testx)"
   ]
  },
  {
   "cell_type": "code",
   "execution_count": 16,
   "metadata": {
    "execution": {
     "iopub.execute_input": "2020-10-19T16:12:01.000817Z",
     "iopub.status.busy": "2020-10-19T16:12:01.000038Z",
     "iopub.status.idle": "2020-10-19T16:12:01.002748Z",
     "shell.execute_reply": "2020-10-19T16:12:01.003201Z"
    },
    "papermill": {
     "duration": 0.022648,
     "end_time": "2020-10-19T16:12:01.003349",
     "exception": false,
     "start_time": "2020-10-19T16:12:00.980701",
     "status": "completed"
    },
    "tags": []
   },
   "outputs": [],
   "source": [
    "test['sentiment'] = test_preds"
   ]
  },
  {
   "cell_type": "code",
   "execution_count": 17,
   "metadata": {
    "execution": {
     "iopub.execute_input": "2020-10-19T16:12:01.039772Z",
     "iopub.status.busy": "2020-10-19T16:12:01.039113Z",
     "iopub.status.idle": "2020-10-19T16:12:01.047488Z",
     "shell.execute_reply": "2020-10-19T16:12:01.046944Z"
    },
    "papermill": {
     "duration": 0.029864,
     "end_time": "2020-10-19T16:12:01.047613",
     "exception": false,
     "start_time": "2020-10-19T16:12:01.017749",
     "status": "completed"
    },
    "tags": []
   },
   "outputs": [
    {
     "data": {
      "text/html": [
       "<div>\n",
       "<style scoped>\n",
       "    .dataframe tbody tr th:only-of-type {\n",
       "        vertical-align: middle;\n",
       "    }\n",
       "\n",
       "    .dataframe tbody tr th {\n",
       "        vertical-align: top;\n",
       "    }\n",
       "\n",
       "    .dataframe thead th {\n",
       "        text-align: right;\n",
       "    }\n",
       "</style>\n",
       "<table border=\"1\" class=\"dataframe\">\n",
       "  <thead>\n",
       "    <tr style=\"text-align: right;\">\n",
       "      <th></th>\n",
       "      <th>message</th>\n",
       "      <th>tweetid</th>\n",
       "      <th>sentiment</th>\n",
       "    </tr>\n",
       "  </thead>\n",
       "  <tbody>\n",
       "    <tr>\n",
       "      <th>0</th>\n",
       "      <td>europe will now be looking to china to make su...</td>\n",
       "      <td>169760</td>\n",
       "      <td>1</td>\n",
       "    </tr>\n",
       "    <tr>\n",
       "      <th>1</th>\n",
       "      <td>combine this with the polling of staffers re c...</td>\n",
       "      <td>35326</td>\n",
       "      <td>1</td>\n",
       "    </tr>\n",
       "    <tr>\n",
       "      <th>2</th>\n",
       "      <td>the scary unimpeachable evidence that climate ...</td>\n",
       "      <td>224985</td>\n",
       "      <td>1</td>\n",
       "    </tr>\n",
       "    <tr>\n",
       "      <th>3</th>\n",
       "      <td>karoli morgfair osborneink dailykos \\nputin go...</td>\n",
       "      <td>476263</td>\n",
       "      <td>1</td>\n",
       "    </tr>\n",
       "    <tr>\n",
       "      <th>4</th>\n",
       "      <td>rt fakewillmoore female orgasms cause global w...</td>\n",
       "      <td>872928</td>\n",
       "      <td>0</td>\n",
       "    </tr>\n",
       "  </tbody>\n",
       "</table>\n",
       "</div>"
      ],
      "text/plain": [
       "                                             message  tweetid  sentiment\n",
       "0  europe will now be looking to china to make su...   169760          1\n",
       "1  combine this with the polling of staffers re c...    35326          1\n",
       "2  the scary unimpeachable evidence that climate ...   224985          1\n",
       "3  karoli morgfair osborneink dailykos \\nputin go...   476263          1\n",
       "4  rt fakewillmoore female orgasms cause global w...   872928          0"
      ]
     },
     "execution_count": 17,
     "metadata": {},
     "output_type": "execute_result"
    }
   ],
   "source": [
    "test.head()"
   ]
  },
  {
   "cell_type": "markdown",
   "metadata": {
    "papermill": {
     "duration": 0.014273,
     "end_time": "2020-10-19T16:12:01.076615",
     "exception": false,
     "start_time": "2020-10-19T16:12:01.062342",
     "status": "completed"
    },
    "tags": []
   },
   "source": [
    "## Creating an output csv for submission"
   ]
  },
  {
   "cell_type": "code",
   "execution_count": 18,
   "metadata": {
    "execution": {
     "iopub.execute_input": "2020-10-19T16:12:01.113328Z",
     "iopub.status.busy": "2020-10-19T16:12:01.112323Z",
     "iopub.status.idle": "2020-10-19T16:12:01.383692Z",
     "shell.execute_reply": "2020-10-19T16:12:01.383007Z"
    },
    "papermill": {
     "duration": 0.292655,
     "end_time": "2020-10-19T16:12:01.383866",
     "exception": false,
     "start_time": "2020-10-19T16:12:01.091211",
     "status": "completed"
    },
    "tags": []
   },
   "outputs": [],
   "source": [
    "test[['tweetid','sentiment']].to_csv('testsubmission.csv', index=False)"
   ]
  },
  {
   "cell_type": "code",
   "execution_count": null,
   "metadata": {
    "papermill": {
     "duration": 0.014236,
     "end_time": "2020-10-19T16:12:01.413462",
     "exception": false,
     "start_time": "2020-10-19T16:12:01.399226",
     "status": "completed"
    },
    "tags": []
   },
   "outputs": [],
   "source": []
  }
 ],
 "metadata": {
  "kernelspec": {
   "display_name": "Python 3",
   "language": "python",
   "name": "python3"
  },
  "language_info": {
   "codemirror_mode": {
    "name": "ipython",
    "version": 3
   },
   "file_extension": ".py",
   "mimetype": "text/x-python",
   "name": "python",
   "nbconvert_exporter": "python",
   "pygments_lexer": "ipython3",
   "version": "3.7.6"
  },
  "papermill": {
   "duration": 10.292943,
   "end_time": "2020-10-19T16:12:01.535774",
   "environment_variables": {},
   "exception": null,
   "input_path": "__notebook__.ipynb",
   "output_path": "__notebook__.ipynb",
   "parameters": {},
   "start_time": "2020-10-19T16:11:51.242831",
   "version": "2.1.0"
  }
 },
 "nbformat": 4,
 "nbformat_minor": 4
}
